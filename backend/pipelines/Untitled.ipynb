{
 "cells": [
  {
   "cell_type": "code",
   "execution_count": 2,
   "id": "76a2257f-1871-4137-bae4-43475f266b10",
   "metadata": {},
   "outputs": [],
   "source": [
    "# print(add invs)"
   ]
  },
  {
   "cell_type": "code",
   "execution_count": null,
   "id": "3d2f85b7-d4e2-4560-b99b-d518c198ecfe",
   "metadata": {},
   "outputs": [],
   "source": []
  }
 ],
 "metadata": {
  "kernelspec": {
   "display_name": "Python 3 (ipykernel)",
   "language": "python",
   "name": "python3"
  },
  "language_info": {
   "codemirror_mode": {
    "name": "ipython",
    "version": 3
   },
   "file_extension": ".py",
   "mimetype": "text/x-python",
   "name": "python",
   "nbconvert_exporter": "python",
   "pygments_lexer": "ipython3",
   "version": "3.10.15"
  }
 },
 "nbformat": 4,
 "nbformat_minor": 5
}
